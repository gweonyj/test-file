{
 "cells": [
  {
   "cell_type": "markdown",
   "metadata": {},
   "source": [
    "# 12. 데이터 수정\n"
   ]
  },
  {
   "cell_type": "code",
   "execution_count": 1,
   "metadata": {},
   "outputs": [
    {
     "data": {
      "text/plain": [
       "지원번호\n",
       "1번    상복고\n",
       "2번    상복고\n",
       "3번    상복고\n",
       "4번    상복고\n",
       "5번    상복고\n",
       "6번    능남고\n",
       "7번    능남고\n",
       "8번    능남고\n",
       "Name: 학교, dtype: object"
      ]
     },
     "execution_count": 1,
     "metadata": {},
     "output_type": "execute_result"
    }
   ],
   "source": [
    "import pandas as pd\n",
    "\n",
    "df = pd.read_excel('score_excel.xlsx', index_col = '지원번호')\n",
    "\n",
    "# Column 수정\n",
    "df['학교'].replace({'북산고':'상복고', '능남고':'무슨고'}, inplace=True) # 북산고를 상복고, 능남고를 무슨고로 바꿈\n",
    "df['SW특기'] = df['SW특기'].str.lower() # SW특기를 모두 소문자로 바꿈\n",
    "df['학교'] = df['학교'] + '등학교' # 학교 데이터 + 등학교\n",
    "\n",
    "# Column 추가\n",
    "df['총합'] = df['국어'] + df['영어'] + df['수학'] + df['과학'] + df['사회']\n",
    "df['결과'] = 'Fail' # 결과 Column을 추가하고 전체 데이터는 Fail로 초기화\n",
    "df.loc[df['총합'] > 400, '결과'] = 'Pass' # 총합이 400보다 큰 데이터에 대해서 결과를 Pass로 업데이트\n",
    "\n",
    "# Column 삭제\n",
    "df.drop(columns = ['총합']) # 총합 Column을 삭제\n",
    "\n",
    "# Row 삭제\n",
    "df.drop(index = '4번') # 4번 학생 데이터 row를 삭제\n",
    "filt = df['수학']\n",
    "df[filt]\n",
    "\n",
    "# Row 추가\n",
    "df.loc['9번'] = ['이정환', '해남고등학교', 184, 90, 90, 90, 90, 90, 'Kotlin', 450, 'Pass']\n",
    "\n",
    "# Cell 수정\n",
    "df.loc['4번', 'SW특기'] = 'Python' # 4번 학생의 SW특기 데이터를 Python으로 변경\n",
    "df.loc['5번', ['학교', 'SW특기']] = ['능남고등학교', 'C'] # 5번 학생의 학교는 능남고등학교로, SW특기는 C로 변경\n",
    "\n",
    "# Column 순서 변경\n",
    "cols = list(df.columns) # 일반적인 list 형태로 바꿈\n",
    "df = df[[cols[-1]] + cols[0:-1]] # 맨 뒤에 있는 결과 Colun을 앞으로 가져오고, 나머지 Column들과 합쳐서 순서 변경\n",
    "\n",
    "# Column 이름 변경\n",
    "df.columns = ['Result', 'Name', 'School'] # 순서대로 Column 이름을 변경"
   ]
  }
 ],
 "metadata": {
  "kernelspec": {
   "display_name": "Python 3.10.6 64-bit (windows store)",
   "language": "python",
   "name": "python3"
  },
  "language_info": {
   "codemirror_mode": {
    "name": "ipython",
    "version": 3
   },
   "file_extension": ".py",
   "mimetype": "text/x-python",
   "name": "python",
   "nbconvert_exporter": "python",
   "pygments_lexer": "ipython3",
   "version": "3.10.6"
  },
  "orig_nbformat": 4,
  "vscode": {
   "interpreter": {
    "hash": "7240ea951ceaba11e29eac9de981dee739bdf7955bec6037107e9ed0cae0a328"
   }
  }
 },
 "nbformat": 4,
 "nbformat_minor": 2
}
