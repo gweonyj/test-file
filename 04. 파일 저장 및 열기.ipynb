{
 "cells": [
  {
   "cell_type": "markdown",
   "metadata": {},
   "source": [
    "4. 파일 저장 및 열기\n",
    "\n",
    "DataFrame 객체를 excel, csv, txt 형태의 파일로 저장 및 열기"
   ]
  },
  {
   "cell_type": "code",
   "execution_count": 7,
   "metadata": {},
   "outputs": [],
   "source": [
    "import pandas as pd\n",
    "\n",
    "data = {\n",
    "    '이름' : ['채치수', '정대만', '송태섭', '서태웅', '강백호', '변덕규', '황태산', '윤대협'],\n",
    "    '학교' : ['북산고', '북산고', '북산고', '북산고', '북산고', '능남고', '능남고', '능남고'],\n",
    "    '키' : [197, 184, 168, 187, 188, 202, 188, 190],\n",
    "    '국어' : [90, 40, 80, 40, 15, 80, 55, 100],\n",
    "    '영어' : [85, 35, 75, 60, 20, 100, 65, 85],\n",
    "    '수학' : [100, 50, 70, 70, 10, 95, 45, 90],\n",
    "    '과학' : [95, 55, 80, 75, 35, 85, 40, 95],\n",
    "    '사회' : [85, 25, 75, 80, 10, 80, 35, 95],\n",
    "    'SW특기' : ['Python', 'Java', 'Javascript', '', '', 'C', 'PYTHON', 'C#']\n",
    "}\n",
    "\n",
    "df = pd.DataFrame(data, index = ['1번', '2번', '3번', '4번', '5번', '6번', '7번', '8번'])\n",
    "df.index.name = '지원번호'\n",
    "\n",
    "# csv 파일로 저장 (csv 파일이란? ,로 구분한 파일의 형태)\n",
    "# df.to_csv('score_csv.csv') # 괄호 안에는 파일명 입력\n",
    "df.to_csv('score_csv.csv', encoding = 'utf-8-sig') # 바로 윗 코딩줄에서 한글이 깨지는 인코딩 문제 해결\n",
    "df.to_csv('score_csv.csv', encoding = 'utf-8-sig', index = False)\n",
    "\n",
    "# txt 파일로 저장\n",
    "df.to_csv('score_txt.txt', sep = '\\t') # tab으로 구분된 텍스트 파일\n",
    "\n",
    "# excel 파일로 저장\n",
    "df.to_excel('score_excel.xlsx')\n",
    "\n",
    "# csv 파일 열기\n",
    "df1 = pd.read_csv('score_csv.csv', encoding = 'utf-8-sig') # skiprows = 1 추가시 지정된 갯수 만큼의 row를 건너뜀\n",
    "                                   # skiprows = [1, 3, 5] 추가시 1, 3, 5 row를 건너뜀\n",
    "                                   # nrows = 4 추가시 지정된 갯수 만큼의 row만 가져옴\n",
    "                                   \n",
    "# txt 파일 열기\n",
    "df1 = pd.read_csv('score_txt.txt', sep = '\\t') # index_col = '지원번호' 추가시 '지원번호'를 index로 설정하여 가져옴\n",
    "\n",
    "# excel 파일 열기\n",
    "df1 = pd.read_excel('score_excel.xlsx')\n"
   ]
  }
 ],
 "metadata": {
  "kernelspec": {
   "display_name": "Python 3.10.6 64-bit (windows store)",
   "language": "python",
   "name": "python3"
  },
  "language_info": {
   "codemirror_mode": {
    "name": "ipython",
    "version": 3
   },
   "file_extension": ".py",
   "mimetype": "text/x-python",
   "name": "python",
   "nbconvert_exporter": "python",
   "pygments_lexer": "ipython3",
   "version": "3.10.6"
  },
  "orig_nbformat": 4,
  "vscode": {
   "interpreter": {
    "hash": "7240ea951ceaba11e29eac9de981dee739bdf7955bec6037107e9ed0cae0a328"
   }
  }
 },
 "nbformat": 4,
 "nbformat_minor": 2
}
