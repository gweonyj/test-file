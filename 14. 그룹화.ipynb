{
 "cells": [
  {
   "cell_type": "markdown",
   "metadata": {},
   "source": [
    "## 14. 그룹화\n",
    "\n",
    "##### 동일한 값을 가진 것들끼리 합쳐서 통계 또는 평균 등의 값을 계산하기 위해 사용"
   ]
  },
  {
   "cell_type": "code",
   "execution_count": 3,
   "metadata": {},
   "outputs": [
    {
     "data": {
      "text/plain": [
       "학교\n",
       "능남고    193.333333\n",
       "북산고    184.800000\n",
       "Name: 키, dtype: float64"
      ]
     },
     "execution_count": 3,
     "metadata": {},
     "output_type": "execute_result"
    }
   ],
   "source": [
    "import pandas as pd\n",
    "\n",
    "df = pd.read_excel('score_excel.xlsx', index_col = '지원번호')\n",
    "\n",
    "df.groupby('학교') \n",
    "df.groupby('학교').get_group('북산고')\n",
    "df.groupby('학교').mean() # 각 그룹의 평균 정보\n",
    "df.groupby('학교').size() # 각 그룹의 크기 정보\n",
    "df.groupby('학교').size()['능남고'] # 능남고 그룹의 크기 정보\n",
    "df.groupby('학교')['키'].mean() # 학교로 그룹화 후 키의 평균 데이터\n",
    "df.groupby('학교')[['국어', '영어', '수학']].mean() # 학교로 그룹화 후 국어, 영어, 수학 평균 데이터\n",
    "\n",
    "df['학년'] - [3, 3, 2, 1, 1, 3, 2, 2] # 학년 Column 추가\n",
    "\n",
    "df.groupby(['학교', '학년']).mean() # 학교별, 학년별 평균 데이터\n",
    "df.groupby('학년').mean().sort_values('키') # 학년별 그룹의 평균 값을 키로 내림차순 정렬\n"
   ]
  },
  {
   "cell_type": "code",
   "execution_count": null,
   "metadata": {},
   "outputs": [],
   "source": []
  }
 ],
 "metadata": {
  "kernelspec": {
   "display_name": "Python 3.10.6 64-bit (windows store)",
   "language": "python",
   "name": "python3"
  },
  "language_info": {
   "codemirror_mode": {
    "name": "ipython",
    "version": 3
   },
   "file_extension": ".py",
   "mimetype": "text/x-python",
   "name": "python",
   "nbconvert_exporter": "python",
   "pygments_lexer": "ipython3",
   "version": "3.10.6"
  },
  "orig_nbformat": 4,
  "vscode": {
   "interpreter": {
    "hash": "7240ea951ceaba11e29eac9de981dee739bdf7955bec6037107e9ed0cae0a328"
   }
  }
 },
 "nbformat": 4,
 "nbformat_minor": 2
}
