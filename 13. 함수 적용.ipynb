{
 "cells": [
  {
   "cell_type": "markdown",
   "metadata": {},
   "source": [
    "## 13. 함수 적용"
   ]
  },
  {
   "cell_type": "code",
   "execution_count": null,
   "metadata": {},
   "outputs": [],
   "source": [
    "import pandas as pd\n",
    "\n",
    "df = pd.read_excel('score_excel.xlsx', index_col = '지원번호')\n",
    "\n",
    "df['키'] = df['키'] + 'cm' # 숫자와 문자의 연산이라 에러남\n",
    "\n",
    "\n",
    "# 데이터에 함수 적용 (apply)\n",
    "def add_cm(height):\n",
    "    return str(height) + 'cm'\n",
    "\n",
    "df['키'] = df['키'].apply(add_cm) # 키 데이터에 대해서 add_cm 함수를 호출한 결과 데이터를 반영\n",
    "\n",
    "\n",
    "def capital(lang):\n",
    "    if pd.notnull(lang): # NaN이 아닌지\n",
    "       return lang.capitalize() # 첫 글자는 대문자로, 나머지는 소문자로\n",
    "    return lang\n",
    "\n",
    "df['SW특기'] = df['SW특기'].apply(capital)\n",
    "\n",
    "\n",
    "df['SW특기'].str.capitalize() # 위에서 직접 정의한 capital 함수와 같은 기능"
   ]
  }
 ],
 "metadata": {
  "kernelspec": {
   "display_name": "Python 3.10.6 64-bit (windows store)",
   "language": "python",
   "name": "python3"
  },
  "language_info": {
   "name": "python",
   "version": "3.10.6"
  },
  "orig_nbformat": 4,
  "vscode": {
   "interpreter": {
    "hash": "7240ea951ceaba11e29eac9de981dee739bdf7955bec6037107e9ed0cae0a328"
   }
  }
 },
 "nbformat": 4,
 "nbformat_minor": 2
}
