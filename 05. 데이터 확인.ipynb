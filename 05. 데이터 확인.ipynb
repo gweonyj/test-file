{
 "cells": [
  {
   "cell_type": "markdown",
   "metadata": {},
   "source": [
    "5. 데이터 확인"
   ]
  },
  {
   "cell_type": "code",
   "execution_count": null,
   "metadata": {},
   "outputs": [],
   "source": [
    "import pandas as pd\n",
    "\n",
    "data = {\n",
    "    '이름' : ['채치수', '정대만', '송태섭', '서태웅', '강백호', '변덕규', '황태산', '윤대협'],\n",
    "    '학교' : ['북산고', '북산고', '북산고', '북산고', '북산고', '능남고', '능남고', '능남고'],\n",
    "    '키' : [197, 184, 168, 187, 188, 202, 188, 190],\n",
    "    '국어' : [90, 40, 80, 40, 15, 80, 55, 100],\n",
    "    '영어' : [85, 35, 75, 60, 20, 100, 65, 85],\n",
    "    '수학' : [100, 50, 70, 70, 10, 95, 45, 90],\n",
    "    '과학' : [95, 55, 80, 75, 35, 85, 40, 95],\n",
    "    '사회' : [85, 25, 75, 80, 10, 80, 35, 95],\n",
    "    'SW특기' : ['Python', 'Java', 'Javascript', '', '', 'C', 'PYTHON', 'C#']\n",
    "}\n",
    "\n",
    "df = pd.DataFrame(data, index = ['1번', '2번', '3번', '4번', '5번', '6번', '7번', '8번'])\n",
    "df.index.name = '지원번호'\n",
    "\n",
    "# DataFrame 확인 - 계산 가능한 데이터에 대해 Column 별로 데이터의 갯수, 평균, 표준편차, 최소/최댓값 등의 정보를 보여줌\n",
    "df.describe() \n",
    "df.info()\n",
    "df.head(4) # 처음 4개의 row를 가져옴 (숫자 미입력 시 기본적으로 5개의 row를 가져옴)\n",
    "df.tail(4) # 마지막 ~\n",
    "df.values\n",
    "df.index\n",
    "df.columns\n",
    "df.shape # (row의 갯수, column의 갯수)의 형태로 출력\n",
    "\n",
    "# Series 확인\n",
    "df['키'].describe()\n",
    "df['키'].min()\n",
    "df['키'].max()\n",
    "df['키'].nlargest(3) # 키 큰 사람 순서대로 3명 데이터 가져옴\n",
    "df['키'].mean() # 평균\n",
    "df['키'].sum() # 총합\n",
    "df['학교'].unique() # 중복된 값 제거 후 데이터 가져옴\n",
    "df['학교'].nunique() # 중복된 값 제거 후 데이터의 갯수\n"
   ]
  }
 ],
 "metadata": {
  "kernelspec": {
   "display_name": "Python 3.10.6 64-bit (windows store)",
   "language": "python",
   "name": "python3"
  },
  "language_info": {
   "name": "python",
   "version": "3.10.6"
  },
  "orig_nbformat": 4,
  "vscode": {
   "interpreter": {
    "hash": "7240ea951ceaba11e29eac9de981dee739bdf7955bec6037107e9ed0cae0a328"
   }
  }
 },
 "nbformat": 4,
 "nbformat_minor": 2
}
