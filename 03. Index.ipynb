{
 "cells": [
  {
   "cell_type": "markdown",
   "metadata": {},
   "source": [
    "3. Index\n",
    "\n",
    "데이터에 접근할 수 있는 주소 값"
   ]
  },
  {
   "cell_type": "code",
   "execution_count": null,
   "metadata": {},
   "outputs": [],
   "source": [
    "import pandas as pd\n",
    "\n",
    "data = {\n",
    "    '이름' : ['채치수', '정대만', '송태섭', '서태웅', '강백호', '변덕규', '황태산', '윤대협'],\n",
    "    '학교' : ['북산고', '북산고', '북산고', '북산고', '북산고', '능남고', '능남고', '능남고'],\n",
    "    '키' : [197, 184, 168, 187, 188, 202, 188, 190],\n",
    "    '국어' : [90, 40, 80, 40, 15, 80, 55, 100],\n",
    "    '영어' : [85, 35, 75, 60, 20, 100, 65, 85],\n",
    "    '수학' : [100, 50, 70, 70, 10, 95, 45, 90],\n",
    "    '과학' : [95, 55, 80, 75, 35, 85, 40, 95],\n",
    "    '사회' : [85, 25, 75, 80, 10, 80, 35, 95],\n",
    "    'SW특기' : ['Python', 'Java', 'Javascript', '', '', 'C', 'PYTHON', 'C#']\n",
    "}\n",
    "\n",
    "df = pd.DataFrame(data, index = ['1번', '2번', '3번', '4번', '5번', '6번', '7번', '8번'])\n",
    "\n",
    "# index 이름 설정\n",
    "df.index.name = '지원번호'\n",
    "\n",
    "# index 초기화\n",
    "df.reset_index()\n",
    "df.reset_index(drop=True) # 원래 쓰던 '지원번호' 인덱스 삭제 (drop=True) -> 미리보기 버전임(아래 주석 참고)\n",
    "df.reset_index(drop=True, inplace=True) # 실제 데이터에 바로 반영 (inplace=True)\n",
    "\n",
    "# index 설정\n",
    "df.set_index('이름') # '이름'을 index로 설정\n",
    "df.set_index('이름', inplace=True) \n",
    "\n",
    "# index 정렬\n",
    "df.sort_index() # 인덱스 값을 기준으로 오름차순 정렬\n",
    "df.sort_index(ascending=False) # 인덱스 값을 기준으로 내림차순 정렬\n"
   ]
  }
 ],
 "metadata": {
  "kernelspec": {
   "display_name": "Python 3.10.6 64-bit (windows store)",
   "language": "python",
   "name": "python3"
  },
  "language_info": {
   "name": "python",
   "version": "3.10.6"
  },
  "orig_nbformat": 4,
  "vscode": {
   "interpreter": {
    "hash": "7240ea951ceaba11e29eac9de981dee739bdf7955bec6037107e9ed0cae0a328"
   }
  }
 },
 "nbformat": 4,
 "nbformat_minor": 2
}
