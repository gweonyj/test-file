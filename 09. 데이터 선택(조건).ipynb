{
 "cells": [
  {
   "cell_type": "markdown",
   "metadata": {},
   "source": [
    "9. 데이터 선택(조건)\n",
    "\n",
    "조건에 해당하는 데이터 선택"
   ]
  },
  {
   "cell_type": "code",
   "execution_count": 9,
   "metadata": {},
   "outputs": [],
   "source": [
    "import pandas as pd\n",
    "\n",
    "df = pd.read_excel('score_excel.xlsx', index_col = '지원번호')\n",
    "\n",
    "filt = (df['키'] >= 185) # 학생들의 키가 185이상인지 여부를 True/False\n",
    "df[filt]\n",
    "df[~filt] # filt를 역으로 적용\n",
    "df.loc[df['키'] >= 185, '수학'] # 키가 185 이상인 학생들의 수학 데이터\n",
    "\n",
    "# & - and, | - or\n",
    "df.loc[(df['키']>=180) & (df['학교'] == '북산고')] # 키가 185 이상인 북산고 학생 데이터\n",
    "df.loc[(df['키']<170) | (df['키']>200)]\n",
    "\n",
    "# str 함수\n",
    "filt = df['이름'].str.startswith('송') # '송'씨 성을 가진 사람\n",
    "filt = df['이름'].str.contains('태') # '태'가 들어가는 사람\n",
    "df[filt]\n",
    "\n",
    "# PYTHON(대문자)을 가진 데이터는 인식 안됨\n",
    "langs = ['Python', 'Java']\n",
    "filt = df['SW특기'].isin(langs) # SW특기가 Python이거나 Java인 사람\n",
    "\n",
    "# 위 코드를 고침\n",
    "langs = ['python', 'java']\n",
    "filt = df['SW특기'].str.lower().isin(langs)\n",
    "\n",
    "df['SW특기'].str.contains('Java', na=False) # 위 코드와 같은 역할 (na=False는 Nan값을 False로 만들어줌)\n"
   ]
  }
 ],
 "metadata": {
  "kernelspec": {
   "display_name": "Python 3.10.6 64-bit (windows store)",
   "language": "python",
   "name": "python3"
  },
  "language_info": {
   "name": "python",
   "version": "3.10.6"
  },
  "orig_nbformat": 4,
  "vscode": {
   "interpreter": {
    "hash": "7240ea951ceaba11e29eac9de981dee739bdf7955bec6037107e9ed0cae0a328"
   }
  }
 },
 "nbformat": 4,
 "nbformat_minor": 2
}
